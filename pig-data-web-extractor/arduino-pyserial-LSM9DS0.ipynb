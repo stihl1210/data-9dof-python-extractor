{
 "cells": [
  {
   "cell_type": "code",
   "execution_count": 1,
   "metadata": {
    "collapsed": true
   },
   "outputs": [
    {
     "ename": "IndentationError",
     "evalue": "expected an indented block (<ipython-input-1-71582c4dd1dc>, line 18)",
     "traceback": [
      "\u001b[0;36m  File \u001b[0;32m\"<ipython-input-1-71582c4dd1dc>\"\u001b[0;36m, line \u001b[0;32m18\u001b[0m\n\u001b[0;31m    while True:\u001b[0m\n\u001b[0m        ^\u001b[0m\n\u001b[0;31mIndentationError\u001b[0m\u001b[0;31m:\u001b[0m expected an indented block\n"
     ],
     "output_type": "error"
    }
   ],
   "source": [
    "import serial\n",
    "from Messure import Messure\n",
    "import time\n",
    "\n",
    "\n",
    "ser = serial.Serial('/dev/ttyACM0', 9600)\n",
    "\n",
    "messures = list()\n",
    "\n",
    "start = time.time();\n",
    "\n",
    "\n",
    "def backup(messures):\n",
    "\n",
    "\n",
    "\n",
    "\n",
    "while True:\n",
    "    try:\n",
    "\n",
    "        line = ser.readline()\n",
    "        print line\n",
    "        mes = line.replace('\\r','').replace('\\n','').split(',')\n",
    "        print mes\n",
    "        messures.append(Messure(time.time(), mes))\n",
    "\n",
    "        stop = time.time()\n",
    "\n",
    "        if(stop-start > 10000):\n",
    "            backup(messures)\n",
    "            messures = list()\n",
    "    except IndexError:\n",
    "        print 'index error'"
   ]
  },
  {
   "cell_type": "code",
   "execution_count": null,
   "metadata": {},
   "outputs": [],
   "source": [
    ""
   ]
  }
 ],
 "metadata": {
  "kernelspec": {
   "display_name": "Python 2",
   "language": "python",
   "name": "python2"
  },
  "language_info": {
   "codemirror_mode": {
    "name": "ipython",
    "version": 2.0
   },
   "file_extension": ".py",
   "mimetype": "text/x-python",
   "name": "python",
   "nbconvert_exporter": "python",
   "pygments_lexer": "ipython2",
   "version": "2.7.6"
  }
 },
 "nbformat": 4,
 "nbformat_minor": 0
}